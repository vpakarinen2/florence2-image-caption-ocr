{
 "cells": [
  {
   "cell_type": "code",
   "execution_count": null,
   "id": "aca2b7f8",
   "metadata": {
    "scrolled": true,
    "vscode": {
     "languageId": "plaintext"
    }
   },
   "outputs": [],
   "source": [
    "!pip install --upgrade pip\n",
    "!pip uninstall torch torchvision torchaudio -y\n",
    "!pip install torch torchvision torchaudio --index-url https://download.pytorch.org/whl/cu124\n",
    "!pip install transformers pillow accelerate einops timm"
   ]
  },
  {
   "cell_type": "code",
   "execution_count": null,
   "id": "9601c4f8-b4f6-44d8-8be5-cc2fdc15dfd6",
   "metadata": {},
   "outputs": [],
   "source": [
    "from huggingface_hub import login\n",
    "login(token=\"<HF_token\")"
   ]
  },
  {
   "cell_type": "code",
   "execution_count": null,
   "id": "04e2f4f2",
   "metadata": {},
   "outputs": [],
   "source": [
    "import torch\n",
    "\n",
    "from transformers import AutoProcessor, AutoModelForCausalLM\n",
    "from PIL import Image"
   ]
  },
  {
   "cell_type": "code",
   "execution_count": null,
   "id": "c8fa7a58-efba-46b9-946d-3ab48ff237e6",
   "metadata": {},
   "outputs": [],
   "source": [
    "device = \"cuda\" if torch.cuda.is_available() else \"cpu\"\n",
    "\n",
    "torch_dtype = torch.float16 if torch.cuda.is_available() else torch.float32\n",
    "model = AutoModelForCausalLM.from_pretrained(\"microsoft/Florence-2-large\", torch_dtype=torch_dtype, trust_remote_code=True, attn_implementation=\"eager\").to(device)\n",
    "processor = AutoProcessor.from_pretrained(\"microsoft/Florence-2-large\", trust_remote_code=True)"
   ]
  },
  {
   "cell_type": "code",
   "execution_count": null,
   "id": "3b3352ae-7c83-4609-9fa4-55d5cbbeae99",
   "metadata": {},
   "outputs": [],
   "source": [
    "image = Image.open(\"ocr-or-caption-image-here.jpg\")\n",
    "\n",
    "prompt = \"<OCR>\"\n",
    "# prompt = \"<DETAILED_CAPTION>\""
   ]
  },
  {
   "cell_type": "code",
   "execution_count": null,
   "id": "88d6df4c-5f8d-4d41-a539-06fa5cdd52a6",
   "metadata": {},
   "outputs": [],
   "source": [
    "inputs = processor(text=prompt, images=image, return_tensors=\"pt\").to(device, torch_dtype)\n",
    "\n",
    "generated_ids = model.generate(\n",
    "    input_ids=inputs[\"input_ids\"],\n",
    "    pixel_values=inputs[\"pixel_values\"],\n",
    "    max_new_tokens=1024,\n",
    "    num_beams=3,\n",
    "    do_sample=False,\n",
    "    use_cache=False\n",
    ")"
   ]
  },
  {
   "cell_type": "code",
   "execution_count": null,
   "id": "8b205d3f-74d0-4fb6-b7a3-a487660e8a5e",
   "metadata": {},
   "outputs": [],
   "source": [
    "generated_text = processor.batch_decode(generated_ids, skip_special_tokens=False)[0]\n",
    "parsed_answer = processor.post_process_generation(generated_text, task=prompt, image_size=(image.width, image.height))\n",
    "\n",
    "raw_output = parsed_answer[\"<OCR>\"]\n",
    "# raw_output = parsed_answer[\"<DETAILED_CAPTION>\"]\n",
    "clean_output = raw_output.replace('\\n', ' ').strip()\n",
    "\n",
    "print(\"OCR:\", clean_output)"
   ]
  }
 ],
 "metadata": {
  "kernelspec": {
   "display_name": "Python 3 (ipykernel)",
   "language": "python",
   "name": "python3"
  },
  "language_info": {
   "codemirror_mode": {
    "name": "ipython",
    "version": 3
   },
   "file_extension": ".py",
   "mimetype": "text/x-python",
   "name": "python",
   "nbconvert_exporter": "python",
   "pygments_lexer": "ipython3",
   "version": "3.11.10"
  }
 },
 "nbformat": 4,
 "nbformat_minor": 5
}
